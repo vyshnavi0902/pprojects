{
 "cells": [
  {
   "cell_type": "code",
   "execution_count": 25,
   "id": "d63ea903-bba9-40a7-92ca-948e52649cf4",
   "metadata": {},
   "outputs": [],
   "source": [
    "import tkinter as tk\n",
    "from tkinter import ttk\n",
    "import requests\n",
    "def data_get():\n",
    "    city=city_name.get()\n",
    "    data=requests.get(\"https://api.openweathermap.org/data/2.5/weather?q=\"+city+\"&appid=a654d66eb58b2af3bdb3cee392dcdb9a\").json()\n",
    "    w_label1.config(text=data[\"weather\"][0][\"main\"])\n",
    "    wb_label1.config(text=data[\"weather\"][0][\"description\"])\n",
    "    temp_label1.config(text=str(int(data[\"main\"][\"temp\"]-273.15)))\n",
    "    p_label1.config(text=data[\"main\"][\"pressure\"])\n",
    "win=tk.Tk()\n",
    "win.title(\"weather app\")\n",
    "win.config(bg=\"Blue\")\n",
    "win.geometry(\"500x570\")\n",
    "name_label=tk.Label(win,text=\"My Weather App\",font=(\"Times New Roman\",30,\"bold\"))\n",
    "name_label.place(x=25,y=50,height=50,width=450)\n",
    "list_name=[\"Andhra Pradesh\",\"Arunachal Pradesh \",\"Assam\",\"Bihar\",\"Chhattisgarh\",\"Goa\",\"Gujarat\",\"Haryana\",\"Himachal Pradesh\",\"Jammu and Kashmir\",\"Jharkhand\",\"Karnataka\",\"Kerala\",\"Madhya Pradesh\",\"Maharashtra\",\"Manipur\",\"Meghalaya\",\"Mizoram\",\"Nagaland\",\"Odisha\",\"Punjab\",\"Rajasthan\",\"Sikkim\",\"Tamil Nadu\",\"Telangana\",\"Tripura\",\"Uttar Pradesh\",\"Uttarakhand\",\"West Bengal\",\"Andaman and Nicobar Islands\",\"Chandigarh\",\"Dadra and Nagar Haveli\",\"Daman and Diu\",\"Lakshadweep\",\"National Capital Territory of Delhi\",\"Puducherry\"]\n",
    "city_name=tk.StringVar()\n",
    "com=ttk.Combobox(win,text=\"Cities\",values=list_name,font=(\"Times New Roman\",20,\"bold\"),textvariable=city_name)\n",
    "com.place(x=25,y=120,height=50,width=450)\n",
    "w_label=tk.Label(win,text=\"Weather Climate\",font=(\"Times New Roman\",20))\n",
    "w_label.place(x=25,y=260,height=50,width=210)\n",
    "w_label1=tk.Label(win,text=\"\",font=(\"Times New Roman\",20))\n",
    "w_label1.place(x=250,y=260,height=50,width=210)\n",
    "wb_label=tk.Label(win,text=\"Weather Desctription\",font=(\"Times New Roman\",17))\n",
    "wb_label.place(x=25,y=330,height=50,width=210)\n",
    "wb_label1=tk.Label(win,text=\"\",font=(\"Times New Roman\",17))\n",
    "wb_label1.place(x=250,y=330,height=50,width=210)\n",
    "temp_label=tk.Label(win,text=\"Temperature\",font=(\"Times New Roman\",20))\n",
    "temp_label.place(x=25,y=400,height=50,width=210)\n",
    "temp_label1=tk.Label(win,text=\"\",font=(\"Times New Roman\",20))\n",
    "temp_label1.place(x=250,y=400,height=50,width=210)\n",
    "p_label=tk.Label(win,text=\"Pressure\",font=(\"Times New Roman\",20))\n",
    "p_label.place(x=25,y=470,height=50,width=210)\n",
    "p_label1=tk.Label(win,text=\"\",font=(\"Times New Roman\",20))\n",
    "p_label1.place(x=250,y=470,height=50,width=210)\n",
    "done=tk.Button(win,text=\"Done\",font=(\"Times New Roman\",20,\"bold\"),command=data_get)\n",
    "done.place(y=190,height=30,width=100,x=200)\n",
    "\n",
    "\n",
    "\n",
    "\n",
    "\n",
    "\n",
    "\n",
    "\n",
    "\n",
    "\n",
    "win.mainloop()"
   ]
  }
 ],
 "metadata": {
  "kernelspec": {
   "display_name": "Python 3 (ipykernel)",
   "language": "python",
   "name": "python3"
  },
  "language_info": {
   "codemirror_mode": {
    "name": "ipython",
    "version": 3
   },
   "file_extension": ".py",
   "mimetype": "text/x-python",
   "name": "python",
   "nbconvert_exporter": "python",
   "pygments_lexer": "ipython3",
   "version": "3.12.4"
  }
 },
 "nbformat": 4,
 "nbformat_minor": 5
}
